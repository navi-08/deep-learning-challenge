{
 "cells": [
  {
   "cell_type": "markdown",
   "metadata": {},
   "source": [
    "## Preprocessing"
   ]
  },
  {
   "cell_type": "code",
   "execution_count": 49,
   "metadata": {},
   "outputs": [
    {
     "data": {
      "text/html": [
       "<div>\n",
       "<style scoped>\n",
       "    .dataframe tbody tr th:only-of-type {\n",
       "        vertical-align: middle;\n",
       "    }\n",
       "\n",
       "    .dataframe tbody tr th {\n",
       "        vertical-align: top;\n",
       "    }\n",
       "\n",
       "    .dataframe thead th {\n",
       "        text-align: right;\n",
       "    }\n",
       "</style>\n",
       "<table border=\"1\" class=\"dataframe\">\n",
       "  <thead>\n",
       "    <tr style=\"text-align: right;\">\n",
       "      <th></th>\n",
       "      <th>EIN</th>\n",
       "      <th>NAME</th>\n",
       "      <th>APPLICATION_TYPE</th>\n",
       "      <th>AFFILIATION</th>\n",
       "      <th>CLASSIFICATION</th>\n",
       "      <th>USE_CASE</th>\n",
       "      <th>ORGANIZATION</th>\n",
       "      <th>STATUS</th>\n",
       "      <th>INCOME_AMT</th>\n",
       "      <th>SPECIAL_CONSIDERATIONS</th>\n",
       "      <th>ASK_AMT</th>\n",
       "      <th>IS_SUCCESSFUL</th>\n",
       "    </tr>\n",
       "  </thead>\n",
       "  <tbody>\n",
       "    <tr>\n",
       "      <th>0</th>\n",
       "      <td>10520599</td>\n",
       "      <td>BLUE KNIGHTS MOTORCYCLE CLUB</td>\n",
       "      <td>T10</td>\n",
       "      <td>Independent</td>\n",
       "      <td>C1000</td>\n",
       "      <td>ProductDev</td>\n",
       "      <td>Association</td>\n",
       "      <td>1</td>\n",
       "      <td>0</td>\n",
       "      <td>N</td>\n",
       "      <td>5000</td>\n",
       "      <td>1</td>\n",
       "    </tr>\n",
       "    <tr>\n",
       "      <th>1</th>\n",
       "      <td>10531628</td>\n",
       "      <td>AMERICAN CHESAPEAKE CLUB CHARITABLE TR</td>\n",
       "      <td>T3</td>\n",
       "      <td>Independent</td>\n",
       "      <td>C2000</td>\n",
       "      <td>Preservation</td>\n",
       "      <td>Co-operative</td>\n",
       "      <td>1</td>\n",
       "      <td>1-9999</td>\n",
       "      <td>N</td>\n",
       "      <td>108590</td>\n",
       "      <td>1</td>\n",
       "    </tr>\n",
       "    <tr>\n",
       "      <th>2</th>\n",
       "      <td>10547893</td>\n",
       "      <td>ST CLOUD PROFESSIONAL FIREFIGHTERS</td>\n",
       "      <td>T5</td>\n",
       "      <td>CompanySponsored</td>\n",
       "      <td>C3000</td>\n",
       "      <td>ProductDev</td>\n",
       "      <td>Association</td>\n",
       "      <td>1</td>\n",
       "      <td>0</td>\n",
       "      <td>N</td>\n",
       "      <td>5000</td>\n",
       "      <td>0</td>\n",
       "    </tr>\n",
       "    <tr>\n",
       "      <th>3</th>\n",
       "      <td>10553066</td>\n",
       "      <td>SOUTHSIDE ATHLETIC ASSOCIATION</td>\n",
       "      <td>T3</td>\n",
       "      <td>CompanySponsored</td>\n",
       "      <td>C2000</td>\n",
       "      <td>Preservation</td>\n",
       "      <td>Trust</td>\n",
       "      <td>1</td>\n",
       "      <td>10000-24999</td>\n",
       "      <td>N</td>\n",
       "      <td>6692</td>\n",
       "      <td>1</td>\n",
       "    </tr>\n",
       "    <tr>\n",
       "      <th>4</th>\n",
       "      <td>10556103</td>\n",
       "      <td>GENETIC RESEARCH INSTITUTE OF THE DESERT</td>\n",
       "      <td>T3</td>\n",
       "      <td>Independent</td>\n",
       "      <td>C1000</td>\n",
       "      <td>Heathcare</td>\n",
       "      <td>Trust</td>\n",
       "      <td>1</td>\n",
       "      <td>100000-499999</td>\n",
       "      <td>N</td>\n",
       "      <td>142590</td>\n",
       "      <td>1</td>\n",
       "    </tr>\n",
       "  </tbody>\n",
       "</table>\n",
       "</div>"
      ],
      "text/plain": [
       "        EIN                                      NAME APPLICATION_TYPE  \\\n",
       "0  10520599              BLUE KNIGHTS MOTORCYCLE CLUB              T10   \n",
       "1  10531628    AMERICAN CHESAPEAKE CLUB CHARITABLE TR               T3   \n",
       "2  10547893        ST CLOUD PROFESSIONAL FIREFIGHTERS               T5   \n",
       "3  10553066            SOUTHSIDE ATHLETIC ASSOCIATION               T3   \n",
       "4  10556103  GENETIC RESEARCH INSTITUTE OF THE DESERT               T3   \n",
       "\n",
       "        AFFILIATION CLASSIFICATION      USE_CASE  ORGANIZATION  STATUS  \\\n",
       "0       Independent          C1000    ProductDev   Association       1   \n",
       "1       Independent          C2000  Preservation  Co-operative       1   \n",
       "2  CompanySponsored          C3000    ProductDev   Association       1   \n",
       "3  CompanySponsored          C2000  Preservation         Trust       1   \n",
       "4       Independent          C1000     Heathcare         Trust       1   \n",
       "\n",
       "      INCOME_AMT SPECIAL_CONSIDERATIONS  ASK_AMT  IS_SUCCESSFUL  \n",
       "0              0                      N     5000              1  \n",
       "1         1-9999                      N   108590              1  \n",
       "2              0                      N     5000              0  \n",
       "3    10000-24999                      N     6692              1  \n",
       "4  100000-499999                      N   142590              1  "
      ]
     },
     "execution_count": 49,
     "metadata": {},
     "output_type": "execute_result"
    }
   ],
   "source": [
    "# Import our dependencies\n",
    "from sklearn.model_selection import train_test_split\n",
    "from sklearn.preprocessing import StandardScaler\n",
    "import pandas as pd\n",
    "import tensorflow as tf\n",
    "\n",
    "#  Import and read the charity_data.csv.\n",
    "import pandas as pd \n",
    "application_df = pd.read_csv(\"https://static.bc-edx.com/data/dl-1-2/m21/lms/starter/charity_data.csv\")\n",
    "application_df.head()"
   ]
  },
  {
   "cell_type": "code",
   "execution_count": 50,
   "metadata": {},
   "outputs": [
    {
     "data": {
      "text/html": [
       "<div>\n",
       "<style scoped>\n",
       "    .dataframe tbody tr th:only-of-type {\n",
       "        vertical-align: middle;\n",
       "    }\n",
       "\n",
       "    .dataframe tbody tr th {\n",
       "        vertical-align: top;\n",
       "    }\n",
       "\n",
       "    .dataframe thead th {\n",
       "        text-align: right;\n",
       "    }\n",
       "</style>\n",
       "<table border=\"1\" class=\"dataframe\">\n",
       "  <thead>\n",
       "    <tr style=\"text-align: right;\">\n",
       "      <th></th>\n",
       "      <th>APPLICATION_TYPE</th>\n",
       "      <th>AFFILIATION</th>\n",
       "      <th>CLASSIFICATION</th>\n",
       "      <th>USE_CASE</th>\n",
       "      <th>ORGANIZATION</th>\n",
       "      <th>STATUS</th>\n",
       "      <th>INCOME_AMT</th>\n",
       "      <th>SPECIAL_CONSIDERATIONS</th>\n",
       "      <th>ASK_AMT</th>\n",
       "      <th>IS_SUCCESSFUL</th>\n",
       "    </tr>\n",
       "  </thead>\n",
       "  <tbody>\n",
       "    <tr>\n",
       "      <th>0</th>\n",
       "      <td>T10</td>\n",
       "      <td>Independent</td>\n",
       "      <td>C1000</td>\n",
       "      <td>ProductDev</td>\n",
       "      <td>Association</td>\n",
       "      <td>1</td>\n",
       "      <td>0</td>\n",
       "      <td>N</td>\n",
       "      <td>5000</td>\n",
       "      <td>1</td>\n",
       "    </tr>\n",
       "    <tr>\n",
       "      <th>1</th>\n",
       "      <td>T3</td>\n",
       "      <td>Independent</td>\n",
       "      <td>C2000</td>\n",
       "      <td>Preservation</td>\n",
       "      <td>Co-operative</td>\n",
       "      <td>1</td>\n",
       "      <td>1-9999</td>\n",
       "      <td>N</td>\n",
       "      <td>108590</td>\n",
       "      <td>1</td>\n",
       "    </tr>\n",
       "    <tr>\n",
       "      <th>2</th>\n",
       "      <td>T5</td>\n",
       "      <td>CompanySponsored</td>\n",
       "      <td>C3000</td>\n",
       "      <td>ProductDev</td>\n",
       "      <td>Association</td>\n",
       "      <td>1</td>\n",
       "      <td>0</td>\n",
       "      <td>N</td>\n",
       "      <td>5000</td>\n",
       "      <td>0</td>\n",
       "    </tr>\n",
       "    <tr>\n",
       "      <th>3</th>\n",
       "      <td>T3</td>\n",
       "      <td>CompanySponsored</td>\n",
       "      <td>C2000</td>\n",
       "      <td>Preservation</td>\n",
       "      <td>Trust</td>\n",
       "      <td>1</td>\n",
       "      <td>10000-24999</td>\n",
       "      <td>N</td>\n",
       "      <td>6692</td>\n",
       "      <td>1</td>\n",
       "    </tr>\n",
       "    <tr>\n",
       "      <th>4</th>\n",
       "      <td>T3</td>\n",
       "      <td>Independent</td>\n",
       "      <td>C1000</td>\n",
       "      <td>Heathcare</td>\n",
       "      <td>Trust</td>\n",
       "      <td>1</td>\n",
       "      <td>100000-499999</td>\n",
       "      <td>N</td>\n",
       "      <td>142590</td>\n",
       "      <td>1</td>\n",
       "    </tr>\n",
       "  </tbody>\n",
       "</table>\n",
       "</div>"
      ],
      "text/plain": [
       "  APPLICATION_TYPE       AFFILIATION CLASSIFICATION      USE_CASE  \\\n",
       "0              T10       Independent          C1000    ProductDev   \n",
       "1               T3       Independent          C2000  Preservation   \n",
       "2               T5  CompanySponsored          C3000    ProductDev   \n",
       "3               T3  CompanySponsored          C2000  Preservation   \n",
       "4               T3       Independent          C1000     Heathcare   \n",
       "\n",
       "   ORGANIZATION  STATUS     INCOME_AMT SPECIAL_CONSIDERATIONS  ASK_AMT  \\\n",
       "0   Association       1              0                      N     5000   \n",
       "1  Co-operative       1         1-9999                      N   108590   \n",
       "2   Association       1              0                      N     5000   \n",
       "3         Trust       1    10000-24999                      N     6692   \n",
       "4         Trust       1  100000-499999                      N   142590   \n",
       "\n",
       "   IS_SUCCESSFUL  \n",
       "0              1  \n",
       "1              1  \n",
       "2              0  \n",
       "3              1  \n",
       "4              1  "
      ]
     },
     "execution_count": 50,
     "metadata": {},
     "output_type": "execute_result"
    }
   ],
   "source": [
    "# Drop the non-beneficial ID columns, 'EIN' and 'NAME'.\n",
    "y = application_df.drop(columns=['EIN','NAME'])\n",
    "y[:5]"
   ]
  },
  {
   "cell_type": "code",
   "execution_count": 51,
   "metadata": {},
   "outputs": [
    {
     "data": {
      "text/plain": [
       "APPLICATION_TYPE            17\n",
       "AFFILIATION                  6\n",
       "CLASSIFICATION              71\n",
       "USE_CASE                     5\n",
       "ORGANIZATION                 4\n",
       "STATUS                       2\n",
       "INCOME_AMT                   9\n",
       "SPECIAL_CONSIDERATIONS       2\n",
       "ASK_AMT                   8747\n",
       "IS_SUCCESSFUL                2\n",
       "dtype: int64"
      ]
     },
     "execution_count": 51,
     "metadata": {},
     "output_type": "execute_result"
    }
   ],
   "source": [
    "# Determine the number of unique values in each column.\n",
    "unique_counts = y.nunique()\n",
    "unique_counts"
   ]
  },
  {
   "cell_type": "code",
   "execution_count": 52,
   "metadata": {},
   "outputs": [
    {
     "data": {
      "text/plain": [
       "APPLICATION_TYPE\n",
       "T3     27037\n",
       "T4      1542\n",
       "T6      1216\n",
       "T5      1173\n",
       "T19     1065\n",
       "T8       737\n",
       "T7       725\n",
       "T10      528\n",
       "T9       156\n",
       "T13       66\n",
       "T12       27\n",
       "T2        16\n",
       "T25        3\n",
       "T14        3\n",
       "T29        2\n",
       "T15        2\n",
       "T17        1\n",
       "Name: count, dtype: int64"
      ]
     },
     "execution_count": 52,
     "metadata": {},
     "output_type": "execute_result"
    }
   ],
   "source": [
    "# Look at APPLICATION_TYPE value counts for binning\n",
    "app_counts = application_df['APPLICATION_TYPE'].value_counts()\n",
    "app_counts"
   ]
  },
  {
   "cell_type": "code",
   "execution_count": 53,
   "metadata": {},
   "outputs": [
    {
     "data": {
      "text/plain": [
       "APPLICATION_TYPE\n",
       "T3       27037\n",
       "T4        1542\n",
       "T6        1216\n",
       "T5        1173\n",
       "T19       1065\n",
       "T8         737\n",
       "T7         725\n",
       "T10        528\n",
       "Other      276\n",
       "Name: count, dtype: int64"
      ]
     },
     "execution_count": 53,
     "metadata": {},
     "output_type": "execute_result"
    }
   ],
   "source": [
    "# Choose a cutoff value and create a list of application types to be replaced\n",
    "# use the variable name `application_types_to_replace`\n",
    "application_types_to_replace = list(app_counts[app_counts<200].index)\n",
    "\n",
    "# Replace in dataframe\n",
    "for app in application_types_to_replace:\n",
    "    application_df['APPLICATION_TYPE'] = application_df['APPLICATION_TYPE'].replace(app,\"Other\")\n",
    "\n",
    "# Check to make sure binning was successful\n",
    "application_df['APPLICATION_TYPE'].value_counts()"
   ]
  },
  {
   "cell_type": "code",
   "execution_count": 54,
   "metadata": {},
   "outputs": [
    {
     "data": {
      "text/plain": [
       "CLASSIFICATION\n",
       "C1000    17326\n",
       "C2000     6074\n",
       "C1200     4837\n",
       "C3000     1918\n",
       "C2100     1883\n",
       "         ...  \n",
       "C4120        1\n",
       "C8210        1\n",
       "C2561        1\n",
       "C4500        1\n",
       "C2150        1\n",
       "Name: count, Length: 71, dtype: int64"
      ]
     },
     "execution_count": 54,
     "metadata": {},
     "output_type": "execute_result"
    }
   ],
   "source": [
    "# Look at CLASSIFICATION value counts for binning\n",
    "classification_counts = application_df['CLASSIFICATION'].value_counts()\n",
    "classification_counts"
   ]
  },
  {
   "cell_type": "code",
   "execution_count": 55,
   "metadata": {},
   "outputs": [
    {
     "data": {
      "text/plain": [
       "CLASSIFICATION\n",
       "C1000    17326\n",
       "C2000     6074\n",
       "C1200     4837\n",
       "C3000     1918\n",
       "C2100     1883\n",
       "C7000      777\n",
       "C1700      287\n",
       "C4000      194\n",
       "C5000      116\n",
       "C1270      114\n",
       "C2700      104\n",
       "C2800       95\n",
       "C7100       75\n",
       "C1300       58\n",
       "C1280       50\n",
       "C1230       36\n",
       "C1400       34\n",
       "C7200       32\n",
       "C2300       32\n",
       "C1240       30\n",
       "C8000       20\n",
       "C7120       18\n",
       "C1500       16\n",
       "C1800       15\n",
       "C6000       15\n",
       "C1250       14\n",
       "C8200       11\n",
       "C1238       10\n",
       "C1278       10\n",
       "C1235        9\n",
       "C1237        9\n",
       "C7210        7\n",
       "C2400        6\n",
       "C1720        6\n",
       "C4100        6\n",
       "C1257        5\n",
       "C1600        5\n",
       "C1260        3\n",
       "C2710        3\n",
       "C0           3\n",
       "C3200        2\n",
       "C1234        2\n",
       "C1246        2\n",
       "C1267        2\n",
       "C1256        2\n",
       "Name: count, dtype: int64"
      ]
     },
     "execution_count": 55,
     "metadata": {},
     "output_type": "execute_result"
    }
   ],
   "source": [
    "# You may find it helpful to look at CLASSIFICATION value counts >1\n",
    "application_df['CLASSIFICATION'].value_counts().loc[lambda x : x >1]"
   ]
  },
  {
   "cell_type": "code",
   "execution_count": 56,
   "metadata": {},
   "outputs": [
    {
     "data": {
      "text/plain": [
       "CLASSIFICATION\n",
       "C1000    17326\n",
       "C2000     6074\n",
       "C1200     4837\n",
       "C3000     1918\n",
       "C2100     1883\n",
       "Other     1484\n",
       "C7000      777\n",
       "Name: count, dtype: int64"
      ]
     },
     "execution_count": 56,
     "metadata": {},
     "output_type": "execute_result"
    }
   ],
   "source": [
    "# Choose a cutoff value and create a list of classifications to be replaced\n",
    "# use the variable name `classifications_to_replace`\n",
    "classifications_to_replace = list(classification_counts[classification_counts<300].index)\n",
    "\n",
    "# Replace in dataframe\n",
    "for cls in classifications_to_replace:\n",
    "    application_df['CLASSIFICATION'] = application_df['CLASSIFICATION'].replace(cls,\"Other\")\n",
    "    \n",
    "# Check to make sure binning was successful\n",
    "application_df['CLASSIFICATION'].value_counts()"
   ]
  },
  {
   "cell_type": "code",
   "execution_count": 57,
   "metadata": {},
   "outputs": [
    {
     "data": {
      "text/html": [
       "<div>\n",
       "<style scoped>\n",
       "    .dataframe tbody tr th:only-of-type {\n",
       "        vertical-align: middle;\n",
       "    }\n",
       "\n",
       "    .dataframe tbody tr th {\n",
       "        vertical-align: top;\n",
       "    }\n",
       "\n",
       "    .dataframe thead th {\n",
       "        text-align: right;\n",
       "    }\n",
       "</style>\n",
       "<table border=\"1\" class=\"dataframe\">\n",
       "  <thead>\n",
       "    <tr style=\"text-align: right;\">\n",
       "      <th></th>\n",
       "      <th>EIN</th>\n",
       "      <th>STATUS</th>\n",
       "      <th>ASK_AMT</th>\n",
       "      <th>IS_SUCCESSFUL</th>\n",
       "      <th>NAME_1 DAY RANCH RESCUE AND RURAL OKLAHOMA ANIMAL RESOURCE INC</th>\n",
       "      <th>NAME_100 BLACK MEN OF AMERICA</th>\n",
       "      <th>NAME_100 BLACK MEN OF MEMPHIS INC</th>\n",
       "      <th>NAME_100 BLACK MEN OF WEST GEORGIA INC</th>\n",
       "      <th>NAME_1150 WEBSTER STREET INC</th>\n",
       "      <th>NAME_116TH CAVALRY REGIMENT CHAPTER OF THE US CAVALRY &amp; ARMOR ASSOCIATION</th>\n",
       "      <th>...</th>\n",
       "      <th>INCOME_AMT_1-9999</th>\n",
       "      <th>INCOME_AMT_10000-24999</th>\n",
       "      <th>INCOME_AMT_100000-499999</th>\n",
       "      <th>INCOME_AMT_10M-50M</th>\n",
       "      <th>INCOME_AMT_1M-5M</th>\n",
       "      <th>INCOME_AMT_25000-99999</th>\n",
       "      <th>INCOME_AMT_50M+</th>\n",
       "      <th>INCOME_AMT_5M-10M</th>\n",
       "      <th>SPECIAL_CONSIDERATIONS_N</th>\n",
       "      <th>SPECIAL_CONSIDERATIONS_Y</th>\n",
       "    </tr>\n",
       "  </thead>\n",
       "  <tbody>\n",
       "    <tr>\n",
       "      <th>0</th>\n",
       "      <td>10520599</td>\n",
       "      <td>1</td>\n",
       "      <td>5000</td>\n",
       "      <td>1</td>\n",
       "      <td>False</td>\n",
       "      <td>False</td>\n",
       "      <td>False</td>\n",
       "      <td>False</td>\n",
       "      <td>False</td>\n",
       "      <td>False</td>\n",
       "      <td>...</td>\n",
       "      <td>False</td>\n",
       "      <td>False</td>\n",
       "      <td>False</td>\n",
       "      <td>False</td>\n",
       "      <td>False</td>\n",
       "      <td>False</td>\n",
       "      <td>False</td>\n",
       "      <td>False</td>\n",
       "      <td>True</td>\n",
       "      <td>False</td>\n",
       "    </tr>\n",
       "    <tr>\n",
       "      <th>1</th>\n",
       "      <td>10531628</td>\n",
       "      <td>1</td>\n",
       "      <td>108590</td>\n",
       "      <td>1</td>\n",
       "      <td>False</td>\n",
       "      <td>False</td>\n",
       "      <td>False</td>\n",
       "      <td>False</td>\n",
       "      <td>False</td>\n",
       "      <td>False</td>\n",
       "      <td>...</td>\n",
       "      <td>True</td>\n",
       "      <td>False</td>\n",
       "      <td>False</td>\n",
       "      <td>False</td>\n",
       "      <td>False</td>\n",
       "      <td>False</td>\n",
       "      <td>False</td>\n",
       "      <td>False</td>\n",
       "      <td>True</td>\n",
       "      <td>False</td>\n",
       "    </tr>\n",
       "    <tr>\n",
       "      <th>2</th>\n",
       "      <td>10547893</td>\n",
       "      <td>1</td>\n",
       "      <td>5000</td>\n",
       "      <td>0</td>\n",
       "      <td>False</td>\n",
       "      <td>False</td>\n",
       "      <td>False</td>\n",
       "      <td>False</td>\n",
       "      <td>False</td>\n",
       "      <td>False</td>\n",
       "      <td>...</td>\n",
       "      <td>False</td>\n",
       "      <td>False</td>\n",
       "      <td>False</td>\n",
       "      <td>False</td>\n",
       "      <td>False</td>\n",
       "      <td>False</td>\n",
       "      <td>False</td>\n",
       "      <td>False</td>\n",
       "      <td>True</td>\n",
       "      <td>False</td>\n",
       "    </tr>\n",
       "    <tr>\n",
       "      <th>3</th>\n",
       "      <td>10553066</td>\n",
       "      <td>1</td>\n",
       "      <td>6692</td>\n",
       "      <td>1</td>\n",
       "      <td>False</td>\n",
       "      <td>False</td>\n",
       "      <td>False</td>\n",
       "      <td>False</td>\n",
       "      <td>False</td>\n",
       "      <td>False</td>\n",
       "      <td>...</td>\n",
       "      <td>False</td>\n",
       "      <td>True</td>\n",
       "      <td>False</td>\n",
       "      <td>False</td>\n",
       "      <td>False</td>\n",
       "      <td>False</td>\n",
       "      <td>False</td>\n",
       "      <td>False</td>\n",
       "      <td>True</td>\n",
       "      <td>False</td>\n",
       "    </tr>\n",
       "    <tr>\n",
       "      <th>4</th>\n",
       "      <td>10556103</td>\n",
       "      <td>1</td>\n",
       "      <td>142590</td>\n",
       "      <td>1</td>\n",
       "      <td>False</td>\n",
       "      <td>False</td>\n",
       "      <td>False</td>\n",
       "      <td>False</td>\n",
       "      <td>False</td>\n",
       "      <td>False</td>\n",
       "      <td>...</td>\n",
       "      <td>False</td>\n",
       "      <td>False</td>\n",
       "      <td>True</td>\n",
       "      <td>False</td>\n",
       "      <td>False</td>\n",
       "      <td>False</td>\n",
       "      <td>False</td>\n",
       "      <td>False</td>\n",
       "      <td>True</td>\n",
       "      <td>False</td>\n",
       "    </tr>\n",
       "  </tbody>\n",
       "</table>\n",
       "<p>5 rows × 19614 columns</p>\n",
       "</div>"
      ],
      "text/plain": [
       "        EIN  STATUS  ASK_AMT  IS_SUCCESSFUL  \\\n",
       "0  10520599       1     5000              1   \n",
       "1  10531628       1   108590              1   \n",
       "2  10547893       1     5000              0   \n",
       "3  10553066       1     6692              1   \n",
       "4  10556103       1   142590              1   \n",
       "\n",
       "   NAME_1 DAY RANCH RESCUE AND RURAL OKLAHOMA ANIMAL RESOURCE INC  \\\n",
       "0                                              False                \n",
       "1                                              False                \n",
       "2                                              False                \n",
       "3                                              False                \n",
       "4                                              False                \n",
       "\n",
       "   NAME_100 BLACK MEN OF AMERICA  NAME_100 BLACK MEN OF MEMPHIS INC  \\\n",
       "0                          False                              False   \n",
       "1                          False                              False   \n",
       "2                          False                              False   \n",
       "3                          False                              False   \n",
       "4                          False                              False   \n",
       "\n",
       "   NAME_100 BLACK MEN OF WEST GEORGIA INC  NAME_1150 WEBSTER STREET INC  \\\n",
       "0                                   False                         False   \n",
       "1                                   False                         False   \n",
       "2                                   False                         False   \n",
       "3                                   False                         False   \n",
       "4                                   False                         False   \n",
       "\n",
       "   NAME_116TH CAVALRY REGIMENT CHAPTER OF THE US CAVALRY & ARMOR ASSOCIATION  \\\n",
       "0                                              False                           \n",
       "1                                              False                           \n",
       "2                                              False                           \n",
       "3                                              False                           \n",
       "4                                              False                           \n",
       "\n",
       "   ...  INCOME_AMT_1-9999  INCOME_AMT_10000-24999  INCOME_AMT_100000-499999  \\\n",
       "0  ...              False                   False                     False   \n",
       "1  ...               True                   False                     False   \n",
       "2  ...              False                   False                     False   \n",
       "3  ...              False                    True                     False   \n",
       "4  ...              False                   False                      True   \n",
       "\n",
       "   INCOME_AMT_10M-50M  INCOME_AMT_1M-5M  INCOME_AMT_25000-99999  \\\n",
       "0               False             False                   False   \n",
       "1               False             False                   False   \n",
       "2               False             False                   False   \n",
       "3               False             False                   False   \n",
       "4               False             False                   False   \n",
       "\n",
       "   INCOME_AMT_50M+  INCOME_AMT_5M-10M  SPECIAL_CONSIDERATIONS_N  \\\n",
       "0            False              False                      True   \n",
       "1            False              False                      True   \n",
       "2            False              False                      True   \n",
       "3            False              False                      True   \n",
       "4            False              False                      True   \n",
       "\n",
       "   SPECIAL_CONSIDERATIONS_Y  \n",
       "0                     False  \n",
       "1                     False  \n",
       "2                     False  \n",
       "3                     False  \n",
       "4                     False  \n",
       "\n",
       "[5 rows x 19614 columns]"
      ]
     },
     "execution_count": 57,
     "metadata": {},
     "output_type": "execute_result"
    }
   ],
   "source": [
    "# Convert categorical data to numeric with `pd.get_dummies`\n",
    "dummies = pd.get_dummies(application_df)\n",
    "dummies.head()"
   ]
  },
  {
   "cell_type": "code",
   "execution_count": 58,
   "metadata": {},
   "outputs": [],
   "source": [
    "# Split our preprocessed data into our features and target arrays\n",
    "X = dummies.drop('IS_SUCCESSFUL', axis=1).values\n",
    "y = dummies['IS_SUCCESSFUL'].values\n",
    "\n",
    "# Split the preprocessed data into a training and testing dataset\n",
    "X_train, X_test, y_train, y_test = train_test_split(X, y, random_state = 78)"
   ]
  },
  {
   "cell_type": "code",
   "execution_count": 59,
   "metadata": {},
   "outputs": [],
   "source": [
    "# Create a StandardScaler instances\n",
    "scaler = StandardScaler()\n",
    "\n",
    "# Fit the StandardScaler\n",
    "X_scaler = scaler.fit(X_train)\n",
    "\n",
    "# Scale the data\n",
    "X_train_scaled = X_scaler.transform(X_train)\n",
    "X_test_scaled = X_scaler.transform(X_test)"
   ]
  },
  {
   "cell_type": "code",
   "execution_count": 60,
   "metadata": {},
   "outputs": [
    {
     "data": {
      "text/plain": [
       "array([[ 1.43002891,  0.01394306, -0.03348439, ..., -0.06987849,\n",
       "         0.02789425, -0.02789425],\n",
       "       [ 0.41629215,  0.01394306, -0.03348439, ..., -0.06987849,\n",
       "         0.02789425, -0.02789425],\n",
       "       [-0.1852473 ,  0.01394306, -0.03348439, ..., -0.06987849,\n",
       "         0.02789425, -0.02789425],\n",
       "       ...,\n",
       "       [-1.15238491,  0.01394306, -0.03229417, ..., -0.06987849,\n",
       "         0.02789425, -0.02789425],\n",
       "       [ 0.4154169 ,  0.01394306, -0.03348439, ..., -0.06987849,\n",
       "         0.02789425, -0.02789425],\n",
       "       [-0.22314116,  0.01394306, -0.01093629, ..., -0.06987849,\n",
       "         0.02789425, -0.02789425]])"
      ]
     },
     "execution_count": 60,
     "metadata": {},
     "output_type": "execute_result"
    }
   ],
   "source": [
    "X_train_scaled\n"
   ]
  },
  {
   "cell_type": "markdown",
   "metadata": {},
   "source": [
    "## Compile, Train and Evaluate the Model"
   ]
  },
  {
   "cell_type": "code",
   "execution_count": 62,
   "metadata": {},
   "outputs": [
    {
     "name": "stdout",
     "output_type": "stream",
     "text": [
      "Model: \"sequential_2\"\n",
      "_________________________________________________________________\n",
      " Layer (type)                Output Shape              Param #   \n",
      "=================================================================\n",
      " dense_8 (Dense)             (None, 50)                980700    \n",
      "                                                                 \n",
      " dense_9 (Dense)             (None, 30)                1530      \n",
      "                                                                 \n",
      " dense_10 (Dense)            (None, 1)                 31        \n",
      "                                                                 \n",
      "=================================================================\n",
      "Total params: 982261 (3.75 MB)\n",
      "Trainable params: 982261 (3.75 MB)\n",
      "Non-trainable params: 0 (0.00 Byte)\n",
      "_________________________________________________________________\n"
     ]
    }
   ],
   "source": [
    "# Define the model - deep neural net, i.e., the number of input features and hidden nodes for each layer.\n",
    "number_input_features = len(X_train[0])\n",
    "hidden_nodes_layer1 =  50\n",
    "hidden_nodes_layer2 = 30\n",
    "nn = tf.keras.models.Sequential()\n",
    "\n",
    "# First hidden layer\n",
    "nn.add(tf.keras.layers.Dense(input_dim=number_input_features , units=hidden_nodes_layer1, activation='relu'))\n",
    "\n",
    "# Second hidden layer\n",
    "nn.add(tf.keras.layers.Dense(units= hidden_nodes_layer2, activation='relu'))\n",
    "\n",
    "\n",
    "# Output layer (output is 1 and sigmoid because it's binary classifier)\n",
    "nn.add(tf.keras.layers.Dense(units=1, activation='sigmoid'))\n",
    "\n",
    "# Check the structure of the model\n",
    "nn.summary()\n"
   ]
  },
  {
   "cell_type": "code",
   "execution_count": 64,
   "metadata": {},
   "outputs": [],
   "source": [
    "# Compile the model\n",
    "nn.compile(loss=\"binary_crossentropy\", optimizer='adam', metrics=[\"accuracy\"])"
   ]
  },
  {
   "cell_type": "code",
   "execution_count": 65,
   "metadata": {},
   "outputs": [
    {
     "name": "stdout",
     "output_type": "stream",
     "text": [
      "Epoch 1/100\n",
      "804/804 [==============================] - 8s 8ms/step - loss: 0.4949 - accuracy: 0.7607\n",
      "Epoch 2/100\n",
      "804/804 [==============================] - 7s 8ms/step - loss: 0.1431 - accuracy: 0.9479\n",
      "Epoch 3/100\n",
      "804/804 [==============================] - 6s 8ms/step - loss: 0.0987 - accuracy: 0.9612\n",
      "Epoch 4/100\n",
      "804/804 [==============================] - 6s 8ms/step - loss: 0.0947 - accuracy: 0.9616\n",
      "Epoch 5/100\n",
      "804/804 [==============================] - 6s 8ms/step - loss: 0.0931 - accuracy: 0.9620\n",
      "Epoch 6/100\n",
      "804/804 [==============================] - 6s 8ms/step - loss: 0.0928 - accuracy: 0.9619\n",
      "Epoch 7/100\n",
      "804/804 [==============================] - 7s 9ms/step - loss: 0.0909 - accuracy: 0.9629\n",
      "Epoch 8/100\n",
      "804/804 [==============================] - 7s 8ms/step - loss: 0.0905 - accuracy: 0.9633\n",
      "Epoch 9/100\n",
      "804/804 [==============================] - 6s 8ms/step - loss: 0.0896 - accuracy: 0.9637\n",
      "Epoch 10/100\n",
      "804/804 [==============================] - 6s 8ms/step - loss: 0.0889 - accuracy: 0.9630\n",
      "Epoch 11/100\n",
      "804/804 [==============================] - 6s 8ms/step - loss: 0.0884 - accuracy: 0.9638\n",
      "Epoch 12/100\n",
      "804/804 [==============================] - 6s 8ms/step - loss: 0.0883 - accuracy: 0.9641\n",
      "Epoch 13/100\n",
      "804/804 [==============================] - 6s 8ms/step - loss: 0.0866 - accuracy: 0.9649\n",
      "Epoch 14/100\n",
      "804/804 [==============================] - 6s 8ms/step - loss: 0.0872 - accuracy: 0.9647\n",
      "Epoch 15/100\n",
      "804/804 [==============================] - 6s 8ms/step - loss: 0.0861 - accuracy: 0.9651\n",
      "Epoch 16/100\n",
      "804/804 [==============================] - 6s 8ms/step - loss: 0.0856 - accuracy: 0.9651\n",
      "Epoch 17/100\n",
      "804/804 [==============================] - 6s 8ms/step - loss: 0.0852 - accuracy: 0.9651\n",
      "Epoch 18/100\n",
      "804/804 [==============================] - 6s 8ms/step - loss: 0.0845 - accuracy: 0.9656\n",
      "Epoch 19/100\n",
      "804/804 [==============================] - 6s 8ms/step - loss: 0.0841 - accuracy: 0.9650\n",
      "Epoch 20/100\n",
      "804/804 [==============================] - 6s 8ms/step - loss: 0.0837 - accuracy: 0.9657\n",
      "Epoch 21/100\n",
      "804/804 [==============================] - 6s 8ms/step - loss: 0.0831 - accuracy: 0.9663\n",
      "Epoch 22/100\n",
      "804/804 [==============================] - 6s 8ms/step - loss: 0.0829 - accuracy: 0.9663\n",
      "Epoch 23/100\n",
      "804/804 [==============================] - 6s 8ms/step - loss: 0.0823 - accuracy: 0.9664\n",
      "Epoch 24/100\n",
      "804/804 [==============================] - 6s 7ms/step - loss: 0.0823 - accuracy: 0.9666\n",
      "Epoch 25/100\n",
      "804/804 [==============================] - 6s 7ms/step - loss: 0.0818 - accuracy: 0.9668\n",
      "Epoch 26/100\n",
      "804/804 [==============================] - 6s 7ms/step - loss: 0.0814 - accuracy: 0.9672\n",
      "Epoch 27/100\n",
      "804/804 [==============================] - 6s 7ms/step - loss: 0.0807 - accuracy: 0.9670\n",
      "Epoch 28/100\n",
      "804/804 [==============================] - 6s 7ms/step - loss: 0.0801 - accuracy: 0.9676\n",
      "Epoch 29/100\n",
      "804/804 [==============================] - 6s 7ms/step - loss: 0.0799 - accuracy: 0.9682\n",
      "Epoch 30/100\n",
      "804/804 [==============================] - 6s 7ms/step - loss: 0.0792 - accuracy: 0.9684\n",
      "Epoch 31/100\n",
      "804/804 [==============================] - 6s 7ms/step - loss: 0.0797 - accuracy: 0.9680\n",
      "Epoch 32/100\n",
      "804/804 [==============================] - 6s 7ms/step - loss: 0.0786 - accuracy: 0.9685\n",
      "Epoch 33/100\n",
      "804/804 [==============================] - 6s 7ms/step - loss: 0.0786 - accuracy: 0.9687\n",
      "Epoch 34/100\n",
      "804/804 [==============================] - 6s 7ms/step - loss: 0.0780 - accuracy: 0.9689\n",
      "Epoch 35/100\n",
      "804/804 [==============================] - 6s 7ms/step - loss: 0.0786 - accuracy: 0.9687\n",
      "Epoch 36/100\n",
      "804/804 [==============================] - 6s 7ms/step - loss: 0.0775 - accuracy: 0.9691\n",
      "Epoch 37/100\n",
      "804/804 [==============================] - 6s 7ms/step - loss: 0.0775 - accuracy: 0.9687\n",
      "Epoch 38/100\n",
      "804/804 [==============================] - 6s 7ms/step - loss: 0.0772 - accuracy: 0.9691\n",
      "Epoch 39/100\n",
      "804/804 [==============================] - 6s 7ms/step - loss: 0.0769 - accuracy: 0.9688\n",
      "Epoch 40/100\n",
      "804/804 [==============================] - 6s 7ms/step - loss: 0.0765 - accuracy: 0.9693\n",
      "Epoch 41/100\n",
      "804/804 [==============================] - 6s 7ms/step - loss: 0.0765 - accuracy: 0.9691\n",
      "Epoch 42/100\n",
      "804/804 [==============================] - 6s 7ms/step - loss: 0.0759 - accuracy: 0.9700\n",
      "Epoch 43/100\n",
      "804/804 [==============================] - 6s 7ms/step - loss: 0.0757 - accuracy: 0.9692\n",
      "Epoch 44/100\n",
      "804/804 [==============================] - 6s 7ms/step - loss: 0.0754 - accuracy: 0.9700\n",
      "Epoch 45/100\n",
      "804/804 [==============================] - 6s 7ms/step - loss: 0.0755 - accuracy: 0.9696\n",
      "Epoch 46/100\n",
      "804/804 [==============================] - 6s 7ms/step - loss: 0.0752 - accuracy: 0.9695\n",
      "Epoch 47/100\n",
      "804/804 [==============================] - 6s 7ms/step - loss: 0.0749 - accuracy: 0.9700\n",
      "Epoch 48/100\n",
      "804/804 [==============================] - 6s 8ms/step - loss: 0.0748 - accuracy: 0.9700\n",
      "Epoch 49/100\n",
      "804/804 [==============================] - 6s 7ms/step - loss: 0.0746 - accuracy: 0.9704\n",
      "Epoch 50/100\n",
      "804/804 [==============================] - 6s 7ms/step - loss: 0.0748 - accuracy: 0.9695\n",
      "Epoch 51/100\n",
      "804/804 [==============================] - 6s 7ms/step - loss: 0.0744 - accuracy: 0.9698\n",
      "Epoch 52/100\n",
      "804/804 [==============================] - 6s 7ms/step - loss: 0.0741 - accuracy: 0.9705\n",
      "Epoch 53/100\n",
      "804/804 [==============================] - 6s 8ms/step - loss: 0.0741 - accuracy: 0.9706\n",
      "Epoch 54/100\n",
      "804/804 [==============================] - 7s 8ms/step - loss: 0.0735 - accuracy: 0.9703\n",
      "Epoch 55/100\n",
      "804/804 [==============================] - 6s 8ms/step - loss: 0.0736 - accuracy: 0.9701\n",
      "Epoch 56/100\n",
      "804/804 [==============================] - 6s 7ms/step - loss: 0.0737 - accuracy: 0.9699\n",
      "Epoch 57/100\n",
      "804/804 [==============================] - 6s 7ms/step - loss: 0.0734 - accuracy: 0.9696\n",
      "Epoch 58/100\n",
      "804/804 [==============================] - 6s 7ms/step - loss: 0.0727 - accuracy: 0.9709\n",
      "Epoch 59/100\n",
      "804/804 [==============================] - 6s 7ms/step - loss: 0.0725 - accuracy: 0.9705\n",
      "Epoch 60/100\n",
      "804/804 [==============================] - 6s 8ms/step - loss: 0.0731 - accuracy: 0.9704\n",
      "Epoch 61/100\n",
      "804/804 [==============================] - 6s 7ms/step - loss: 0.0727 - accuracy: 0.9706\n",
      "Epoch 62/100\n",
      "804/804 [==============================] - 6s 7ms/step - loss: 0.0721 - accuracy: 0.9710\n",
      "Epoch 63/100\n",
      "804/804 [==============================] - 6s 7ms/step - loss: 0.0720 - accuracy: 0.9711\n",
      "Epoch 64/100\n",
      "804/804 [==============================] - 6s 7ms/step - loss: 0.0720 - accuracy: 0.9706\n",
      "Epoch 65/100\n",
      "804/804 [==============================] - 6s 7ms/step - loss: 0.0715 - accuracy: 0.9709\n",
      "Epoch 66/100\n",
      "804/804 [==============================] - 6s 7ms/step - loss: 0.0717 - accuracy: 0.9709\n",
      "Epoch 67/100\n",
      "804/804 [==============================] - 6s 8ms/step - loss: 0.0710 - accuracy: 0.9707\n",
      "Epoch 68/100\n",
      "804/804 [==============================] - 7s 8ms/step - loss: 0.0713 - accuracy: 0.9714\n",
      "Epoch 69/100\n",
      "804/804 [==============================] - 6s 8ms/step - loss: 0.0710 - accuracy: 0.9713\n",
      "Epoch 70/100\n",
      "804/804 [==============================] - 6s 8ms/step - loss: 0.0716 - accuracy: 0.9710\n",
      "Epoch 71/100\n",
      "804/804 [==============================] - 6s 7ms/step - loss: 0.0705 - accuracy: 0.9714\n",
      "Epoch 72/100\n",
      "804/804 [==============================] - 6s 7ms/step - loss: 0.0711 - accuracy: 0.9712\n",
      "Epoch 73/100\n",
      "804/804 [==============================] - 6s 7ms/step - loss: 0.0709 - accuracy: 0.9711\n",
      "Epoch 74/100\n",
      "804/804 [==============================] - 6s 7ms/step - loss: 0.0706 - accuracy: 0.9717\n",
      "Epoch 75/100\n",
      "804/804 [==============================] - 6s 7ms/step - loss: 0.0707 - accuracy: 0.9716\n",
      "Epoch 76/100\n",
      "804/804 [==============================] - 6s 7ms/step - loss: 0.0700 - accuracy: 0.9715\n",
      "Epoch 77/100\n",
      "804/804 [==============================] - 6s 7ms/step - loss: 0.0704 - accuracy: 0.9716\n",
      "Epoch 78/100\n",
      "804/804 [==============================] - 6s 7ms/step - loss: 0.0698 - accuracy: 0.9715\n",
      "Epoch 79/100\n",
      "804/804 [==============================] - 6s 7ms/step - loss: 0.0700 - accuracy: 0.9714\n",
      "Epoch 80/100\n",
      "804/804 [==============================] - 6s 7ms/step - loss: 0.0703 - accuracy: 0.9711\n",
      "Epoch 81/100\n",
      "804/804 [==============================] - 6s 7ms/step - loss: 0.0695 - accuracy: 0.9717\n",
      "Epoch 82/100\n",
      "804/804 [==============================] - 6s 7ms/step - loss: 0.0700 - accuracy: 0.9717\n",
      "Epoch 83/100\n",
      "804/804 [==============================] - 6s 7ms/step - loss: 0.0698 - accuracy: 0.9709\n",
      "Epoch 84/100\n",
      "804/804 [==============================] - 6s 7ms/step - loss: 0.0694 - accuracy: 0.9714\n",
      "Epoch 85/100\n",
      "804/804 [==============================] - 6s 7ms/step - loss: 0.0693 - accuracy: 0.9717\n",
      "Epoch 86/100\n",
      "804/804 [==============================] - 6s 7ms/step - loss: 0.0692 - accuracy: 0.9715\n",
      "Epoch 87/100\n",
      "804/804 [==============================] - 6s 7ms/step - loss: 0.0691 - accuracy: 0.9715\n",
      "Epoch 88/100\n",
      "804/804 [==============================] - 6s 7ms/step - loss: 0.0692 - accuracy: 0.9717\n",
      "Epoch 89/100\n",
      "804/804 [==============================] - 6s 7ms/step - loss: 0.0691 - accuracy: 0.9716\n",
      "Epoch 90/100\n",
      "804/804 [==============================] - 6s 7ms/step - loss: 0.0695 - accuracy: 0.9713\n",
      "Epoch 91/100\n",
      "804/804 [==============================] - 6s 7ms/step - loss: 0.0693 - accuracy: 0.9719\n",
      "Epoch 92/100\n",
      "804/804 [==============================] - 6s 7ms/step - loss: 0.0688 - accuracy: 0.9724\n",
      "Epoch 93/100\n",
      "804/804 [==============================] - 6s 7ms/step - loss: 0.0686 - accuracy: 0.9716\n",
      "Epoch 94/100\n",
      "804/804 [==============================] - 6s 7ms/step - loss: 0.0686 - accuracy: 0.9722\n",
      "Epoch 95/100\n",
      "804/804 [==============================] - 6s 7ms/step - loss: 0.0683 - accuracy: 0.9717\n",
      "Epoch 96/100\n",
      "804/804 [==============================] - 6s 7ms/step - loss: 0.0685 - accuracy: 0.9720\n",
      "Epoch 97/100\n",
      "804/804 [==============================] - 6s 7ms/step - loss: 0.0683 - accuracy: 0.9722\n",
      "Epoch 98/100\n",
      "804/804 [==============================] - 6s 7ms/step - loss: 0.0684 - accuracy: 0.9720\n",
      "Epoch 99/100\n",
      "804/804 [==============================] - 6s 7ms/step - loss: 0.0676 - accuracy: 0.9724\n",
      "Epoch 100/100\n",
      "804/804 [==============================] - 6s 7ms/step - loss: 0.0686 - accuracy: 0.9722\n"
     ]
    }
   ],
   "source": [
    "# Train the model\n",
    "fit_model = nn.fit(X_train_scaled, y_train, epochs=100)"
   ]
  },
  {
   "cell_type": "code",
   "execution_count": 66,
   "metadata": {},
   "outputs": [
    {
     "name": "stdout",
     "output_type": "stream",
     "text": [
      "268/268 - 1s - loss: 0.8614 - accuracy: 0.6454 - 861ms/epoch - 3ms/step\n",
      "Loss: 0.8613957166671753, Accuracy: 0.6453644037246704\n"
     ]
    }
   ],
   "source": [
    "# Evaluate the model using the test data\n",
    "model_loss, model_accuracy = nn.evaluate(X_test_scaled,y_test,verbose=2)\n",
    "#model_loss, model_accuracy = nn.evaluate(X_test_scaled,y_test)\n",
    "print(f\"Loss: {model_loss}, Accuracy: {model_accuracy}\")"
   ]
  },
  {
   "cell_type": "code",
   "execution_count": 67,
   "metadata": {},
   "outputs": [
    {
     "data": {
      "text/plain": [
       "<Axes: >"
      ]
     },
     "execution_count": 67,
     "metadata": {},
     "output_type": "execute_result"
    },
    {
     "data": {
      "image/png": "[encoded data removed]",
      "text/plain": [
       "<Figure size 640x480 with 1 Axes>"
      ]
     },
     "metadata": {},
     "output_type": "display_data"
    }
   ],
   "source": [
    "# plotting the accuracy\n",
    "history_df = pd.DataFrame(fit_model.history, index = range(1, len(fit_model.history['loss'])+1))\n",
    "history_df.plot(y = 'accuracy')"
   ]
  },
  {
   "cell_type": "code",
   "execution_count": 69,
   "metadata": {},
   "outputs": [],
   "source": [
    "# Export our model to HDF5 file\n",
    "\n",
    "nn.save('../h5_files/AlphabetSoupCharity_model_2.h5')"
   ]
  },
  {
   "cell_type": "code",
   "execution_count": null,
   "metadata": {},
   "outputs": [],
   "source": []
  },
  {
   "cell_type": "code",
   "execution_count": null,
   "metadata": {},
   "outputs": [],
   "source": []
  },
  {
   "cell_type": "code",
   "execution_count": null,
   "metadata": {},
   "outputs": [],
   "source": []
  },
  {
   "cell_type": "code",
   "execution_count": null,
   "metadata": {},
   "outputs": [],
   "source": [
    "This is 2 attempt"
   ]
  },
  {
   "cell_type": "code",
   "execution_count": 37,
   "metadata": {},
   "outputs": [
    {
     "name": "stdout",
     "output_type": "stream",
     "text": [
      "Shape of X_train_scaled: (25724, 19613)\n"
     ]
    }
   ],
   "source": [
    "print(\"Shape of X_train_scaled:\", X_train_scaled.shape)\n"
   ]
  },
  {
   "cell_type": "code",
   "execution_count": 38,
   "metadata": {},
   "outputs": [],
   "source": [
    "def create_model(hp):\n",
    "    nn = tf.keras.models.Sequential()\n",
    "\n",
    "    # Allow kerastuner to decide which activation function to use in hidden layers\n",
    "    activation = hp.Choice('activation',['relu','tanh','sigmoid'])\n",
    "    \n",
    "    # Allow kerastuner to decide number of neurons in first layer\n",
    "    nn.add(tf.keras.layers.Dense(units=hp.Int('first_units',\n",
    "        min_value=1,\n",
    "        max_value=10,\n",
    "        step=2), activation=activation, input_dim=X_train_scaled.shape[1]))  \n",
    "    \n",
    "    # Allow kerastuner to decide number of hidden layers and neurons in hidden layers\n",
    "    for i in range(hp.Int('num_layers', 1, 6)):\n",
    "        nn.add(tf.keras.layers.Dense(units=hp.Int('units_' + str(i),\n",
    "            min_value=1,\n",
    "            max_value=10,\n",
    "            step=2),\n",
    "            activation=activation))\n",
    "    \n",
    "    nn.add(tf.keras.layers.Dense(units=1, activation=\"sigmoid\"))\n",
    "\n",
    "    # Compile the model\n",
    "    nn.compile(loss=\"binary_crossentropy\", optimizer='adam', metrics=[\"accuracy\"])\n",
    "    \n",
    "    return nn\n"
   ]
  },
  {
   "cell_type": "code",
   "execution_count": 39,
   "metadata": {},
   "outputs": [],
   "source": [
    "# Import the kerastuner library\n",
    "import keras_tuner as kt"
   ]
  },
  {
   "cell_type": "code",
   "execution_count": 40,
   "metadata": {},
   "outputs": [
    {
     "name": "stdout",
     "output_type": "stream",
     "text": [
      "Reloading Tuner from .\\untitled_project\\tuner0.json\n"
     ]
    }
   ],
   "source": [
    "tuner = kt.Hyperband(\n",
    "    create_model,\n",
    "    objective=\"val_accuracy\",\n",
    "    max_epochs=20,\n",
    "    hyperband_iterations=2)"
   ]
  },
  {
   "cell_type": "code",
   "execution_count": 41,
   "metadata": {},
   "outputs": [
    {
     "name": "stdout",
     "output_type": "stream",
     "text": [
      "Trial 56 Complete [00h 01m 30s]\n",
      "val_accuracy: 0.7883381843566895\n",
      "\n",
      "Best val_accuracy So Far: 0.7981340885162354\n",
      "Total elapsed time: 01h 00m 53s\n"
     ]
    }
   ],
   "source": [
    "# Run the kerastuner search for best hyperparameters\n",
    "tuner.search(X_train_scaled,y_train,epochs=20,validation_data=(X_test_scaled,y_test))"
   ]
  },
  {
   "cell_type": "code",
   "execution_count": 42,
   "metadata": {},
   "outputs": [
    {
     "data": {
      "text/plain": [
       "{'activation': 'sigmoid',\n",
       " 'first_units': 9,\n",
       " 'num_layers': 3,\n",
       " 'units_0': 7,\n",
       " 'units_1': 3,\n",
       " 'units_2': 7,\n",
       " 'units_3': 9,\n",
       " 'units_4': 5,\n",
       " 'units_5': 1,\n",
       " 'tuner/epochs': 20,\n",
       " 'tuner/initial_epoch': 0,\n",
       " 'tuner/bracket': 0,\n",
       " 'tuner/round': 0}"
      ]
     },
     "execution_count": 42,
     "metadata": {},
     "output_type": "execute_result"
    }
   ],
   "source": [
    "# Get best model hyperparameters\n",
    "best_hyper = tuner.get_best_hyperparameters(1)[0]\n",
    "best_hyper.values"
   ]
  },
  {
   "cell_type": "code",
   "execution_count": 43,
   "metadata": {},
   "outputs": [
    {
     "name": "stdout",
     "output_type": "stream",
     "text": [
      "268/268 - 1s - loss: 0.4902 - accuracy: 0.7981 - 585ms/epoch - 2ms/step\n",
      "Loss: 0.4901760518550873, Accuracy: 0.7981340885162354\n"
     ]
    }
   ],
   "source": [
    "# Evaluate best model against full test data\n",
    "best_model = tuner.get_best_models(1)[0]\n",
    "model_loss, model_accuracy = best_model.evaluate(X_test_scaled,y_test,verbose=2)\n",
    "print(f\"Loss: {model_loss}, Accuracy: {model_accuracy}\")"
   ]
  },
  {
   "cell_type": "code",
   "execution_count": 75,
   "metadata": {},
   "outputs": [
    {
     "data": {
      "text/plain": [
       "<Axes: >"
      ]
     },
     "execution_count": 75,
     "metadata": {},
     "output_type": "execute_result"
    },
    {
     "data": {
      "image/png": "[encoded data removed]",
      "text/plain": [
       "<Figure size 640x480 with 1 Axes>"
      ]
     },
     "metadata": {},
     "output_type": "display_data"
    }
   ],
   "source": [
    "# plotting the accuracy\n",
    "history_df = pd.DataFrame(fit_model.history, index = range(1, len(fit_model.history['loss'])+1))\n",
    "history_df.plot(y = 'accuracy')"
   ]
  },
  {
   "cell_type": "code",
   "execution_count": 77,
   "metadata": {},
   "outputs": [],
   "source": [
    "# Export our model to HDF5 file\n",
    "nn.save('../h5_files/AlphabetSoupCharity_Optimization.keras')\n",
    "\n"
   ]
  },
  {
   "cell_type": "code",
   "execution_count": null,
   "metadata": {},
   "outputs": [],
   "source": []
  }
 ],
 "metadata": {
  "kernelspec": {
   "display_name": "Python 3 (ipykernel)",
   "language": "python",
   "name": "python3"
  },
  "language_info": {
   "codemirror_mode": {
    "name": "ipython",
    "version": 3
   },
   "file_extension": ".py",
   "mimetype": "text/x-python",
   "name": "python",
   "nbconvert_exporter": "python",
   "pygments_lexer": "ipython3",
   "version": "3.11.5"
  },
  "vscode": {
   "interpreter": {
    "hash": "31f2aee4e71d21fbe5cf8b01ff0e069b9275f58929596ceb00d14d90e3e16cd6"
   }
  }
 },
 "nbformat": 4,
 "nbformat_minor": 4
}
